{
 "cells": [
  {
   "cell_type": "markdown",
   "id": "2388cd6e-732e-49f4-84b4-860938358f07",
   "metadata": {},
   "source": [
    "# Import Library"
   ]
  },
  {
   "cell_type": "code",
   "execution_count": 2,
   "id": "2d7df4eb-9b43-432e-aaa8-e3813268948d",
   "metadata": {},
   "outputs": [],
   "source": [
    "import pandas as pd\n",
    "import numpy as np\n",
    "import matplotlib.pyplot as plt\n",
    "import seaborn as sns\n",
    "from sklearn.linear_model import LinearRegression, LogisticRegression\n",
    "from sklearn.model_selection import train_test_split\n",
    "from sklearn.preprocessing import StandardScaler\n",
    "from sklearn.metrics import confusion_matrix, precision_recall_fscore_support"
   ]
  },
  {
   "cell_type": "markdown",
   "id": "2fd253d7-3bee-49a5-a852-b1ea7ffd09bf",
   "metadata": {},
   "source": [
    "# Load Dataset & Explore\n",
    "Dataset yang digunakan adalah [Honey Production in the USA (1998-2012)\n",
    "](https://www.kaggle.com/jessicali9530/honey-production)."
   ]
  },
  {
   "cell_type": "code",
   "execution_count": 144,
   "id": "7062ec1b-04cf-4eb0-a334-8ea01b164110",
   "metadata": {},
   "outputs": [
    {
     "data": {
      "text/html": [
       "<div>\n",
       "<style scoped>\n",
       "    .dataframe tbody tr th:only-of-type {\n",
       "        vertical-align: middle;\n",
       "    }\n",
       "\n",
       "    .dataframe tbody tr th {\n",
       "        vertical-align: top;\n",
       "    }\n",
       "\n",
       "    .dataframe thead th {\n",
       "        text-align: right;\n",
       "    }\n",
       "</style>\n",
       "<table border=\"1\" class=\"dataframe\">\n",
       "  <thead>\n",
       "    <tr style=\"text-align: right;\">\n",
       "      <th></th>\n",
       "      <th>state</th>\n",
       "      <th>numcol</th>\n",
       "      <th>yieldpercol</th>\n",
       "      <th>totalprod</th>\n",
       "      <th>stocks</th>\n",
       "      <th>priceperlb</th>\n",
       "      <th>prodvalue</th>\n",
       "      <th>year</th>\n",
       "    </tr>\n",
       "  </thead>\n",
       "  <tbody>\n",
       "    <tr>\n",
       "      <th>0</th>\n",
       "      <td>AL</td>\n",
       "      <td>16000.0</td>\n",
       "      <td>71</td>\n",
       "      <td>1136000.0</td>\n",
       "      <td>159000.0</td>\n",
       "      <td>0.72</td>\n",
       "      <td>818000.0</td>\n",
       "      <td>1998</td>\n",
       "    </tr>\n",
       "    <tr>\n",
       "      <th>1</th>\n",
       "      <td>AZ</td>\n",
       "      <td>55000.0</td>\n",
       "      <td>60</td>\n",
       "      <td>3300000.0</td>\n",
       "      <td>1485000.0</td>\n",
       "      <td>0.64</td>\n",
       "      <td>2112000.0</td>\n",
       "      <td>1998</td>\n",
       "    </tr>\n",
       "    <tr>\n",
       "      <th>2</th>\n",
       "      <td>AR</td>\n",
       "      <td>53000.0</td>\n",
       "      <td>65</td>\n",
       "      <td>3445000.0</td>\n",
       "      <td>1688000.0</td>\n",
       "      <td>0.59</td>\n",
       "      <td>2033000.0</td>\n",
       "      <td>1998</td>\n",
       "    </tr>\n",
       "    <tr>\n",
       "      <th>3</th>\n",
       "      <td>CA</td>\n",
       "      <td>450000.0</td>\n",
       "      <td>83</td>\n",
       "      <td>37350000.0</td>\n",
       "      <td>12326000.0</td>\n",
       "      <td>0.62</td>\n",
       "      <td>23157000.0</td>\n",
       "      <td>1998</td>\n",
       "    </tr>\n",
       "    <tr>\n",
       "      <th>4</th>\n",
       "      <td>CO</td>\n",
       "      <td>27000.0</td>\n",
       "      <td>72</td>\n",
       "      <td>1944000.0</td>\n",
       "      <td>1594000.0</td>\n",
       "      <td>0.70</td>\n",
       "      <td>1361000.0</td>\n",
       "      <td>1998</td>\n",
       "    </tr>\n",
       "  </tbody>\n",
       "</table>\n",
       "</div>"
      ],
      "text/plain": [
       "  state    numcol  yieldpercol   totalprod      stocks  priceperlb  \\\n",
       "0    AL   16000.0           71   1136000.0    159000.0        0.72   \n",
       "1    AZ   55000.0           60   3300000.0   1485000.0        0.64   \n",
       "2    AR   53000.0           65   3445000.0   1688000.0        0.59   \n",
       "3    CA  450000.0           83  37350000.0  12326000.0        0.62   \n",
       "4    CO   27000.0           72   1944000.0   1594000.0        0.70   \n",
       "\n",
       "    prodvalue  year  \n",
       "0    818000.0  1998  \n",
       "1   2112000.0  1998  \n",
       "2   2033000.0  1998  \n",
       "3  23157000.0  1998  \n",
       "4   1361000.0  1998  "
      ]
     },
     "execution_count": 144,
     "metadata": {},
     "output_type": "execute_result"
    }
   ],
   "source": [
    "df = pd.read_csv('honeyproduction.csv')\n",
    "\n",
    "df.head()"
   ]
  },
  {
   "cell_type": "code",
   "execution_count": 145,
   "id": "2e97a13c-eb78-4be0-be96-78636ea04bde",
   "metadata": {},
   "outputs": [
    {
     "data": {
      "text/plain": [
       "(626, 8)"
      ]
     },
     "execution_count": 145,
     "metadata": {},
     "output_type": "execute_result"
    }
   ],
   "source": [
    "df.shape"
   ]
  },
  {
   "cell_type": "code",
   "execution_count": 146,
   "id": "7e52c03f-6918-4b75-a1f2-8bb8d84c6747",
   "metadata": {},
   "outputs": [
    {
     "name": "stdout",
     "output_type": "stream",
     "text": [
      "<class 'pandas.core.frame.DataFrame'>\n",
      "RangeIndex: 626 entries, 0 to 625\n",
      "Data columns (total 8 columns):\n",
      " #   Column       Non-Null Count  Dtype  \n",
      "---  ------       --------------  -----  \n",
      " 0   state        626 non-null    object \n",
      " 1   numcol       626 non-null    float64\n",
      " 2   yieldpercol  626 non-null    int64  \n",
      " 3   totalprod    626 non-null    float64\n",
      " 4   stocks       626 non-null    float64\n",
      " 5   priceperlb   626 non-null    float64\n",
      " 6   prodvalue    626 non-null    float64\n",
      " 7   year         626 non-null    int64  \n",
      "dtypes: float64(5), int64(2), object(1)\n",
      "memory usage: 39.2+ KB\n"
     ]
    }
   ],
   "source": [
    "df.info()"
   ]
  },
  {
   "cell_type": "code",
   "execution_count": 147,
   "id": "9fd40f77-412d-41f9-8c23-15d8c066ddf2",
   "metadata": {},
   "outputs": [
    {
     "data": {
      "text/plain": [
       "False    626\n",
       "dtype: int64"
      ]
     },
     "execution_count": 147,
     "metadata": {},
     "output_type": "execute_result"
    }
   ],
   "source": [
    "df.duplicated().value_counts()"
   ]
  },
  {
   "cell_type": "code",
   "execution_count": 148,
   "id": "98b77f82-c037-40ba-95e5-38edd7b6c0b6",
   "metadata": {},
   "outputs": [
    {
     "data": {
      "text/plain": [
       "<AxesSubplot:ylabel='totalprod'>"
      ]
     },
     "execution_count": 148,
     "metadata": {},
     "output_type": "execute_result"
    },
    {
     "data": {
      "image/png": "[encoded data removed]",
      "text/plain": [
       "<Figure size 432x288 with 1 Axes>"
      ]
     },
     "metadata": {
      "needs_background": "light"
     },
     "output_type": "display_data"
    }
   ],
   "source": [
    "sns.boxplot(data=df, y='totalprod')"
   ]
  },
  {
   "cell_type": "code",
   "execution_count": 149,
   "id": "1dcd1c31-db09-4924-9d08-0c5856ca4848",
   "metadata": {},
   "outputs": [],
   "source": [
    "q1, q3 = df.totalprod.quantile(0.25), df.totalprod.quantile(0.75)\n",
    "iqr = q3-q1\n",
    "\n",
    "df = df[df.totalprod < (q3 + (1.5*iqr))]"
   ]
  },
  {
   "cell_type": "code",
   "execution_count": 150,
   "id": "f6ed20dd-5829-46e1-840e-5f1de1128ca0",
   "metadata": {},
   "outputs": [
    {
     "data": {
      "text/plain": [
       "<AxesSubplot:ylabel='totalprod'>"
      ]
     },
     "execution_count": 150,
     "metadata": {},
     "output_type": "execute_result"
    },
    {
     "data": {
      "image/png": "[encoded data removed]",
      "text/plain": [
       "<Figure size 432x288 with 1 Axes>"
      ]
     },
     "metadata": {
      "needs_background": "light"
     },
     "output_type": "display_data"
    }
   ],
   "source": [
    "sns.boxplot(data=df, y='totalprod')"
   ]
  },
  {
   "cell_type": "code",
   "execution_count": 151,
   "id": "59f34374-cab4-484d-b86c-7193facd36ea",
   "metadata": {},
   "outputs": [
    {
     "data": {
      "text/plain": [
       "(551, 8)"
      ]
     },
     "execution_count": 151,
     "metadata": {},
     "output_type": "execute_result"
    }
   ],
   "source": [
    "df.shape"
   ]
  },
  {
   "cell_type": "code",
   "execution_count": 152,
   "id": "adb7f2cd-d074-44d5-af8e-65f2c2546ce6",
   "metadata": {},
   "outputs": [
    {
     "data": {
      "text/html": [
       "<div>\n",
       "<style scoped>\n",
       "    .dataframe tbody tr th:only-of-type {\n",
       "        vertical-align: middle;\n",
       "    }\n",
       "\n",
       "    .dataframe tbody tr th {\n",
       "        vertical-align: top;\n",
       "    }\n",
       "\n",
       "    .dataframe thead th {\n",
       "        text-align: right;\n",
       "    }\n",
       "</style>\n",
       "<table border=\"1\" class=\"dataframe\">\n",
       "  <thead>\n",
       "    <tr style=\"text-align: right;\">\n",
       "      <th></th>\n",
       "      <th>numcol</th>\n",
       "      <th>yieldpercol</th>\n",
       "      <th>totalprod</th>\n",
       "      <th>stocks</th>\n",
       "      <th>priceperlb</th>\n",
       "      <th>prodvalue</th>\n",
       "      <th>year</th>\n",
       "    </tr>\n",
       "  </thead>\n",
       "  <tbody>\n",
       "    <tr>\n",
       "      <th>numcol</th>\n",
       "      <td>1.000000</td>\n",
       "      <td>0.158312</td>\n",
       "      <td>0.945387</td>\n",
       "      <td>0.760725</td>\n",
       "      <td>-0.311629</td>\n",
       "      <td>0.878071</td>\n",
       "      <td>0.000793</td>\n",
       "    </tr>\n",
       "    <tr>\n",
       "      <th>yieldpercol</th>\n",
       "      <td>0.158312</td>\n",
       "      <td>1.000000</td>\n",
       "      <td>0.383008</td>\n",
       "      <td>0.297162</td>\n",
       "      <td>-0.310282</td>\n",
       "      <td>0.263607</td>\n",
       "      <td>-0.193309</td>\n",
       "    </tr>\n",
       "    <tr>\n",
       "      <th>totalprod</th>\n",
       "      <td>0.945387</td>\n",
       "      <td>0.383008</td>\n",
       "      <td>1.000000</td>\n",
       "      <td>0.801379</td>\n",
       "      <td>-0.353532</td>\n",
       "      <td>0.881333</td>\n",
       "      <td>-0.075423</td>\n",
       "    </tr>\n",
       "    <tr>\n",
       "      <th>stocks</th>\n",
       "      <td>0.760725</td>\n",
       "      <td>0.297162</td>\n",
       "      <td>0.801379</td>\n",
       "      <td>1.000000</td>\n",
       "      <td>-0.378627</td>\n",
       "      <td>0.628888</td>\n",
       "      <td>-0.169440</td>\n",
       "    </tr>\n",
       "    <tr>\n",
       "      <th>priceperlb</th>\n",
       "      <td>-0.311629</td>\n",
       "      <td>-0.310282</td>\n",
       "      <td>-0.353532</td>\n",
       "      <td>-0.378627</td>\n",
       "      <td>1.000000</td>\n",
       "      <td>-0.060334</td>\n",
       "      <td>0.695697</td>\n",
       "    </tr>\n",
       "    <tr>\n",
       "      <th>prodvalue</th>\n",
       "      <td>0.878071</td>\n",
       "      <td>0.263607</td>\n",
       "      <td>0.881333</td>\n",
       "      <td>0.628888</td>\n",
       "      <td>-0.060334</td>\n",
       "      <td>1.000000</td>\n",
       "      <td>0.221368</td>\n",
       "    </tr>\n",
       "    <tr>\n",
       "      <th>year</th>\n",
       "      <td>0.000793</td>\n",
       "      <td>-0.193309</td>\n",
       "      <td>-0.075423</td>\n",
       "      <td>-0.169440</td>\n",
       "      <td>0.695697</td>\n",
       "      <td>0.221368</td>\n",
       "      <td>1.000000</td>\n",
       "    </tr>\n",
       "  </tbody>\n",
       "</table>\n",
       "</div>"
      ],
      "text/plain": [
       "               numcol  yieldpercol  totalprod    stocks  priceperlb  \\\n",
       "numcol       1.000000     0.158312   0.945387  0.760725   -0.311629   \n",
       "yieldpercol  0.158312     1.000000   0.383008  0.297162   -0.310282   \n",
       "totalprod    0.945387     0.383008   1.000000  0.801379   -0.353532   \n",
       "stocks       0.760725     0.297162   0.801379  1.000000   -0.378627   \n",
       "priceperlb  -0.311629    -0.310282  -0.353532 -0.378627    1.000000   \n",
       "prodvalue    0.878071     0.263607   0.881333  0.628888   -0.060334   \n",
       "year         0.000793    -0.193309  -0.075423 -0.169440    0.695697   \n",
       "\n",
       "             prodvalue      year  \n",
       "numcol        0.878071  0.000793  \n",
       "yieldpercol   0.263607 -0.193309  \n",
       "totalprod     0.881333 -0.075423  \n",
       "stocks        0.628888 -0.169440  \n",
       "priceperlb   -0.060334  0.695697  \n",
       "prodvalue     1.000000  0.221368  \n",
       "year          0.221368  1.000000  "
      ]
     },
     "execution_count": 152,
     "metadata": {},
     "output_type": "execute_result"
    }
   ],
   "source": [
    "df.corr()"
   ]
  },
  {
   "cell_type": "code",
   "execution_count": 153,
   "id": "18bea974-7482-4153-9d94-f761c718f4d5",
   "metadata": {},
   "outputs": [
    {
     "data": {
      "text/plain": [
       "<AxesSubplot:>"
      ]
     },
     "execution_count": 153,
     "metadata": {},
     "output_type": "execute_result"
    },
    {
     "data": {
      "image/png": "[encoded data removed]",
      "text/plain": [
       "<Figure size 720x432 with 2 Axes>"
      ]
     },
     "metadata": {
      "needs_background": "light"
     },
     "output_type": "display_data"
    }
   ],
   "source": [
    "plt.figure(figsize=(10,6))\n",
    "sns.heatmap(df.corr(), annot=True, cmap='cubehelix', square=True, vmin=0, vmax=1)"
   ]
  },
  {
   "cell_type": "code",
   "execution_count": 154,
   "id": "34764133-d49b-4d9c-9b1a-90d1abced538",
   "metadata": {},
   "outputs": [
    {
     "data": {
      "text/plain": [
       "[<matplotlib.lines.Line2D at 0x16715a24e50>]"
      ]
     },
     "execution_count": 154,
     "metadata": {},
     "output_type": "execute_result"
    },
    {
     "data": {
      "image/png": "[encoded data removed]",
      "text/plain": [
       "<Figure size 432x288 with 1 Axes>"
      ]
     },
     "metadata": {
      "needs_background": "light"
     },
     "output_type": "display_data"
    }
   ],
   "source": [
    "plt.plot(df.numcol, df.totalprod, 'o')"
   ]
  },
  {
   "cell_type": "code",
   "execution_count": 155,
   "id": "b877545d-127d-45e9-9535-ef030ef6f432",
   "metadata": {},
   "outputs": [
    {
     "data": {
      "text/plain": [
       "[<matplotlib.lines.Line2D at 0x1671588b0a0>]"
      ]
     },
     "execution_count": 155,
     "metadata": {},
     "output_type": "execute_result"
    },
    {
     "data": {
      "image/png": "[encoded data removed]",
      "text/plain": [
       "<Figure size 432x288 with 1 Axes>"
      ]
     },
     "metadata": {
      "needs_background": "light"
     },
     "output_type": "display_data"
    }
   ],
   "source": [
    "plt.plot(df.prodvalue, df.totalprod, 'o')"
   ]
  },
  {
   "cell_type": "markdown",
   "id": "f5add3c3-c12e-465a-8045-5bd54fd014bc",
   "metadata": {},
   "source": [
    "# Linear Regression"
   ]
  },
  {
   "cell_type": "code",
   "execution_count": 156,
   "id": "711cd979-7878-4fe8-88ef-76edfd5a38e3",
   "metadata": {},
   "outputs": [],
   "source": [
    "x = df.numcol.values.reshape(-1, 1)\n",
    "y = df.totalprod"
   ]
  },
  {
   "cell_type": "code",
   "execution_count": 157,
   "id": "62a3b399-56b3-42af-858e-28fe1c7c0c77",
   "metadata": {},
   "outputs": [
    {
     "data": {
      "text/plain": [
       "LinearRegression()"
      ]
     },
     "execution_count": 157,
     "metadata": {},
     "output_type": "execute_result"
    }
   ],
   "source": [
    "regr = LinearRegression()\n",
    "regr.fit(x, y)"
   ]
  },
  {
   "cell_type": "code",
   "execution_count": 158,
   "id": "960139a3-0864-443b-8e70-997bbc84d539",
   "metadata": {},
   "outputs": [
    {
     "data": {
      "text/plain": [
       "(array([64.18915428]), -47509.40844410914)"
      ]
     },
     "execution_count": 158,
     "metadata": {},
     "output_type": "execute_result"
    }
   ],
   "source": [
    "regr.coef_, regr.intercept_"
   ]
  },
  {
   "cell_type": "code",
   "execution_count": 159,
   "id": "4e63a687-91b9-410b-a0c6-dcff89fcec08",
   "metadata": {},
   "outputs": [],
   "source": [
    "y_pred = regr.predict(x)"
   ]
  },
  {
   "cell_type": "code",
   "execution_count": 160,
   "id": "66002c75-8c82-478a-bb0b-a670fae425bb",
   "metadata": {},
   "outputs": [
    {
     "data": {
      "image/png": "[encoded data removed]",
      "text/plain": [
       "<Figure size 432x288 with 1 Axes>"
      ]
     },
     "metadata": {
      "needs_background": "light"
     },
     "output_type": "display_data"
    }
   ],
   "source": [
    "plt.plot(x, y, 'o')\n",
    "plt.plot(x, y_pred)\n",
    "plt.show()"
   ]
  },
  {
   "cell_type": "markdown",
   "id": "473453ec-06bb-4d56-b885-f02d13942705",
   "metadata": {},
   "source": [
    "## Evaluation\n",
    "\n",
    "### MSE"
   ]
  },
  {
   "cell_type": "code",
   "execution_count": 161,
   "id": "1d2d7adb-3a98-45ee-837f-8d3460a553ad",
   "metadata": {},
   "outputs": [
    {
     "data": {
      "text/plain": [
       "462235459227.96484"
      ]
     },
     "execution_count": 161,
     "metadata": {},
     "output_type": "execute_result"
    }
   ],
   "source": [
    "from sklearn.metrics import mean_squared_error\n",
    "mean_squared_error(y, y_pred)"
   ]
  },
  {
   "cell_type": "markdown",
   "id": "35e8e22b-4950-4a54-9012-fb2a730e098a",
   "metadata": {},
   "source": [
    "### MAE"
   ]
  },
  {
   "cell_type": "code",
   "execution_count": 162,
   "id": "2abfe8bf-04bc-4d0c-b7c0-996a3cd7af11",
   "metadata": {},
   "outputs": [
    {
     "data": {
      "text/plain": [
       "420762.6311862607"
      ]
     },
     "execution_count": 162,
     "metadata": {},
     "output_type": "execute_result"
    }
   ],
   "source": [
    "from sklearn.metrics import mean_absolute_error\n",
    "mean_absolute_error(y, y_pred)"
   ]
  },
  {
   "cell_type": "markdown",
   "id": "fefda6d6-52ee-4335-833c-199eea9e4b81",
   "metadata": {},
   "source": [
    "### R² Score"
   ]
  },
  {
   "cell_type": "code",
   "execution_count": 163,
   "id": "68d6474d-9ee8-4590-b677-81e7206ed0d9",
   "metadata": {},
   "outputs": [
    {
     "data": {
      "text/plain": [
       "0.8937565087069161"
      ]
     },
     "execution_count": 163,
     "metadata": {},
     "output_type": "execute_result"
    }
   ],
   "source": [
    "from sklearn.metrics import r2_score\n",
    "r2_score(y, y_pred)"
   ]
  },
  {
   "cell_type": "code",
   "execution_count": 164,
   "id": "d7fdf13f-723c-41c1-956c-f5685e10a363",
   "metadata": {},
   "outputs": [
    {
     "data": {
      "text/html": [
       "<div>\n",
       "<style scoped>\n",
       "    .dataframe tbody tr th:only-of-type {\n",
       "        vertical-align: middle;\n",
       "    }\n",
       "\n",
       "    .dataframe tbody tr th {\n",
       "        vertical-align: top;\n",
       "    }\n",
       "\n",
       "    .dataframe thead th {\n",
       "        text-align: right;\n",
       "    }\n",
       "</style>\n",
       "<table border=\"1\" class=\"dataframe\">\n",
       "  <thead>\n",
       "    <tr style=\"text-align: right;\">\n",
       "      <th></th>\n",
       "      <th>actual</th>\n",
       "      <th>predict</th>\n",
       "    </tr>\n",
       "  </thead>\n",
       "  <tbody>\n",
       "    <tr>\n",
       "      <th>0</th>\n",
       "      <td>1136000.0</td>\n",
       "      <td>979517.0</td>\n",
       "    </tr>\n",
       "    <tr>\n",
       "      <th>1</th>\n",
       "      <td>3300000.0</td>\n",
       "      <td>3482894.0</td>\n",
       "    </tr>\n",
       "    <tr>\n",
       "      <th>2</th>\n",
       "      <td>3445000.0</td>\n",
       "      <td>3354516.0</td>\n",
       "    </tr>\n",
       "    <tr>\n",
       "      <th>4</th>\n",
       "      <td>1944000.0</td>\n",
       "      <td>1685598.0</td>\n",
       "    </tr>\n",
       "    <tr>\n",
       "      <th>6</th>\n",
       "      <td>4200000.0</td>\n",
       "      <td>4766677.0</td>\n",
       "    </tr>\n",
       "    <tr>\n",
       "      <th>7</th>\n",
       "      <td>944000.0</td>\n",
       "      <td>466004.0</td>\n",
       "    </tr>\n",
       "    <tr>\n",
       "      <th>8</th>\n",
       "      <td>6000000.0</td>\n",
       "      <td>7655189.0</td>\n",
       "    </tr>\n",
       "    <tr>\n",
       "      <th>9</th>\n",
       "      <td>639000.0</td>\n",
       "      <td>530193.0</td>\n",
       "    </tr>\n",
       "    <tr>\n",
       "      <th>10</th>\n",
       "      <td>828000.0</td>\n",
       "      <td>530193.0</td>\n",
       "    </tr>\n",
       "    <tr>\n",
       "      <th>11</th>\n",
       "      <td>3900000.0</td>\n",
       "      <td>3161948.0</td>\n",
       "    </tr>\n",
       "  </tbody>\n",
       "</table>\n",
       "</div>"
      ],
      "text/plain": [
       "       actual    predict\n",
       "0   1136000.0   979517.0\n",
       "1   3300000.0  3482894.0\n",
       "2   3445000.0  3354516.0\n",
       "4   1944000.0  1685598.0\n",
       "6   4200000.0  4766677.0\n",
       "7    944000.0   466004.0\n",
       "8   6000000.0  7655189.0\n",
       "9    639000.0   530193.0\n",
       "10   828000.0   530193.0\n",
       "11  3900000.0  3161948.0"
      ]
     },
     "execution_count": 164,
     "metadata": {},
     "output_type": "execute_result"
    }
   ],
   "source": [
    "comp = pd.DataFrame({'actual':y,'predict':y_pred})\n",
    "comp.predict = round(comp.predict)\n",
    "comp.head(10)"
   ]
  },
  {
   "cell_type": "markdown",
   "id": "245b00e8-6075-432f-90b4-4923fd559082",
   "metadata": {},
   "source": [
    "# Multiple Linear Regression"
   ]
  },
  {
   "cell_type": "code",
   "execution_count": 165,
   "id": "189b0619-795b-4085-ac24-84f937803c36",
   "metadata": {},
   "outputs": [],
   "source": [
    "x = df[['numcol', 'stocks', 'prodvalue']]\n",
    "y = df.totalprod"
   ]
  },
  {
   "cell_type": "code",
   "execution_count": 185,
   "id": "f5c4b627-fd51-45a5-89da-582e1a17f963",
   "metadata": {},
   "outputs": [],
   "source": [
    "x_train, x_test, y_train, y_test = train_test_split(x, y, test_size=0.2, random_state=42)"
   ]
  },
  {
   "cell_type": "code",
   "execution_count": 186,
   "id": "3b206923-4d34-4b1a-be23-7f420b7b506b",
   "metadata": {},
   "outputs": [
    {
     "data": {
      "text/plain": [
       "LinearRegression()"
      ]
     },
     "execution_count": 186,
     "metadata": {},
     "output_type": "execute_result"
    }
   ],
   "source": [
    "mlr = LinearRegression()\n",
    "mlr.fit(x_train, y_train)"
   ]
  },
  {
   "cell_type": "code",
   "execution_count": 187,
   "id": "d2a8e463-6a94-44b3-ab8c-538eed985e60",
   "metadata": {},
   "outputs": [],
   "source": [
    "y_pred = mlr.predict(x_test)"
   ]
  },
  {
   "cell_type": "markdown",
   "id": "69c8578b-7b7a-4873-8da4-67cbeb3d7867",
   "metadata": {},
   "source": [
    "## Evaluation\n",
    "\n",
    "### MSE"
   ]
  },
  {
   "cell_type": "code",
   "execution_count": 188,
   "id": "1f293ae9-fa90-4c36-8cf5-0a08c807fb18",
   "metadata": {},
   "outputs": [
    {
     "data": {
      "text/plain": [
       "298569145092.9764"
      ]
     },
     "execution_count": 188,
     "metadata": {},
     "output_type": "execute_result"
    }
   ],
   "source": [
    "from sklearn.metrics import mean_squared_error\n",
    "mean_squared_error(y_test, y_pred)"
   ]
  },
  {
   "cell_type": "markdown",
   "id": "41e5af20-85c6-46ef-a697-bcb6bf9bbd16",
   "metadata": {},
   "source": [
    "### MAE"
   ]
  },
  {
   "cell_type": "code",
   "execution_count": 189,
   "id": "63eabce3-9556-4092-8550-4c9577d4277f",
   "metadata": {},
   "outputs": [
    {
     "data": {
      "text/plain": [
       "334081.49257369945"
      ]
     },
     "execution_count": 189,
     "metadata": {},
     "output_type": "execute_result"
    }
   ],
   "source": [
    "from sklearn.metrics import mean_absolute_error\n",
    "mean_absolute_error(y_test, y_pred)"
   ]
  },
  {
   "cell_type": "markdown",
   "id": "4c46d757-d688-4d6e-9c04-d39cca3c56bf",
   "metadata": {},
   "source": [
    "### R² Score"
   ]
  },
  {
   "cell_type": "code",
   "execution_count": 190,
   "id": "4109e43f-eff9-4227-a9ac-3a55b6aa6fec",
   "metadata": {},
   "outputs": [
    {
     "name": "stdout",
     "output_type": "stream",
     "text": [
      "Train score: 0.9242927244883906\n",
      "Test score: 0.9275703931481802\n"
     ]
    }
   ],
   "source": [
    "print(f\"Train score: {mlr.score(x_train, y_train)}\")\n",
    "print(f\"Test score: {mlr.score(x_test, y_test)}\")"
   ]
  },
  {
   "cell_type": "code",
   "execution_count": 191,
   "id": "baca926e-d08e-4039-9ce3-cee88a9d023d",
   "metadata": {},
   "outputs": [
    {
     "data": {
      "text/html": [
       "<div>\n",
       "<style scoped>\n",
       "    .dataframe tbody tr th:only-of-type {\n",
       "        vertical-align: middle;\n",
       "    }\n",
       "\n",
       "    .dataframe tbody tr th {\n",
       "        vertical-align: top;\n",
       "    }\n",
       "\n",
       "    .dataframe thead th {\n",
       "        text-align: right;\n",
       "    }\n",
       "</style>\n",
       "<table border=\"1\" class=\"dataframe\">\n",
       "  <thead>\n",
       "    <tr style=\"text-align: right;\">\n",
       "      <th></th>\n",
       "      <th>actual</th>\n",
       "      <th>predict</th>\n",
       "    </tr>\n",
       "  </thead>\n",
       "  <tbody>\n",
       "    <tr>\n",
       "      <th>621</th>\n",
       "      <td>164000.0</td>\n",
       "      <td>227958.0</td>\n",
       "    </tr>\n",
       "    <tr>\n",
       "      <th>94</th>\n",
       "      <td>4700000.0</td>\n",
       "      <td>5480092.0</td>\n",
       "    </tr>\n",
       "    <tr>\n",
       "      <th>162</th>\n",
       "      <td>280000.0</td>\n",
       "      <td>264077.0</td>\n",
       "    </tr>\n",
       "    <tr>\n",
       "      <th>92</th>\n",
       "      <td>3135000.0</td>\n",
       "      <td>2550240.0</td>\n",
       "    </tr>\n",
       "    <tr>\n",
       "      <th>311</th>\n",
       "      <td>680000.0</td>\n",
       "      <td>723568.0</td>\n",
       "    </tr>\n",
       "    <tr>\n",
       "      <th>261</th>\n",
       "      <td>1044000.0</td>\n",
       "      <td>851541.0</td>\n",
       "    </tr>\n",
       "    <tr>\n",
       "      <th>488</th>\n",
       "      <td>352000.0</td>\n",
       "      <td>552261.0</td>\n",
       "    </tr>\n",
       "    <tr>\n",
       "      <th>455</th>\n",
       "      <td>1104000.0</td>\n",
       "      <td>1322549.0</td>\n",
       "    </tr>\n",
       "    <tr>\n",
       "      <th>95</th>\n",
       "      <td>488000.0</td>\n",
       "      <td>424209.0</td>\n",
       "    </tr>\n",
       "    <tr>\n",
       "      <th>349</th>\n",
       "      <td>4662000.0</td>\n",
       "      <td>3886456.0</td>\n",
       "    </tr>\n",
       "  </tbody>\n",
       "</table>\n",
       "</div>"
      ],
      "text/plain": [
       "        actual    predict\n",
       "621   164000.0   227958.0\n",
       "94   4700000.0  5480092.0\n",
       "162   280000.0   264077.0\n",
       "92   3135000.0  2550240.0\n",
       "311   680000.0   723568.0\n",
       "261  1044000.0   851541.0\n",
       "488   352000.0   552261.0\n",
       "455  1104000.0  1322549.0\n",
       "95    488000.0   424209.0\n",
       "349  4662000.0  3886456.0"
      ]
     },
     "execution_count": 191,
     "metadata": {},
     "output_type": "execute_result"
    }
   ],
   "source": [
    "comp = pd.DataFrame({'actual':y_test,'predict':y_pred})\n",
    "comp.predict = round(comp.predict)\n",
    "comp.head(10)"
   ]
  },
  {
   "cell_type": "markdown",
   "id": "4eb1efd4-3a4f-4d6f-bac9-5251926e40e1",
   "metadata": {},
   "source": [
    "# Logistic Regression"
   ]
  },
  {
   "cell_type": "code",
   "execution_count": 120,
   "id": "6532b279-45bc-4828-8acf-153080447f71",
   "metadata": {},
   "outputs": [
    {
     "data": {
      "text/html": [
       "<div>\n",
       "<style scoped>\n",
       "    .dataframe tbody tr th:only-of-type {\n",
       "        vertical-align: middle;\n",
       "    }\n",
       "\n",
       "    .dataframe tbody tr th {\n",
       "        vertical-align: top;\n",
       "    }\n",
       "\n",
       "    .dataframe thead th {\n",
       "        text-align: right;\n",
       "    }\n",
       "</style>\n",
       "<table border=\"1\" class=\"dataframe\">\n",
       "  <thead>\n",
       "    <tr style=\"text-align: right;\">\n",
       "      <th></th>\n",
       "      <th>state</th>\n",
       "      <th>numcol</th>\n",
       "      <th>yieldpercol</th>\n",
       "      <th>totalprod</th>\n",
       "      <th>stocks</th>\n",
       "      <th>priceperlb</th>\n",
       "      <th>prodvalue</th>\n",
       "      <th>year</th>\n",
       "    </tr>\n",
       "  </thead>\n",
       "  <tbody>\n",
       "    <tr>\n",
       "      <th>0</th>\n",
       "      <td>AL</td>\n",
       "      <td>16000.0</td>\n",
       "      <td>71</td>\n",
       "      <td>1136000.0</td>\n",
       "      <td>159000.0</td>\n",
       "      <td>0.72</td>\n",
       "      <td>818000.0</td>\n",
       "      <td>1998</td>\n",
       "    </tr>\n",
       "    <tr>\n",
       "      <th>1</th>\n",
       "      <td>AZ</td>\n",
       "      <td>55000.0</td>\n",
       "      <td>60</td>\n",
       "      <td>3300000.0</td>\n",
       "      <td>1485000.0</td>\n",
       "      <td>0.64</td>\n",
       "      <td>2112000.0</td>\n",
       "      <td>1998</td>\n",
       "    </tr>\n",
       "    <tr>\n",
       "      <th>2</th>\n",
       "      <td>AR</td>\n",
       "      <td>53000.0</td>\n",
       "      <td>65</td>\n",
       "      <td>3445000.0</td>\n",
       "      <td>1688000.0</td>\n",
       "      <td>0.59</td>\n",
       "      <td>2033000.0</td>\n",
       "      <td>1998</td>\n",
       "    </tr>\n",
       "    <tr>\n",
       "      <th>4</th>\n",
       "      <td>CO</td>\n",
       "      <td>27000.0</td>\n",
       "      <td>72</td>\n",
       "      <td>1944000.0</td>\n",
       "      <td>1594000.0</td>\n",
       "      <td>0.70</td>\n",
       "      <td>1361000.0</td>\n",
       "      <td>1998</td>\n",
       "    </tr>\n",
       "    <tr>\n",
       "      <th>6</th>\n",
       "      <td>GA</td>\n",
       "      <td>75000.0</td>\n",
       "      <td>56</td>\n",
       "      <td>4200000.0</td>\n",
       "      <td>307000.0</td>\n",
       "      <td>0.69</td>\n",
       "      <td>2898000.0</td>\n",
       "      <td>1998</td>\n",
       "    </tr>\n",
       "  </tbody>\n",
       "</table>\n",
       "</div>"
      ],
      "text/plain": [
       "  state   numcol  yieldpercol  totalprod     stocks  priceperlb  prodvalue  \\\n",
       "0    AL  16000.0           71  1136000.0   159000.0        0.72   818000.0   \n",
       "1    AZ  55000.0           60  3300000.0  1485000.0        0.64  2112000.0   \n",
       "2    AR  53000.0           65  3445000.0  1688000.0        0.59  2033000.0   \n",
       "4    CO  27000.0           72  1944000.0  1594000.0        0.70  1361000.0   \n",
       "6    GA  75000.0           56  4200000.0   307000.0        0.69  2898000.0   \n",
       "\n",
       "   year  \n",
       "0  1998  \n",
       "1  1998  \n",
       "2  1998  \n",
       "4  1998  \n",
       "6  1998  "
      ]
     },
     "execution_count": 120,
     "metadata": {},
     "output_type": "execute_result"
    }
   ],
   "source": [
    "df.head()"
   ]
  },
  {
   "cell_type": "code",
   "execution_count": 121,
   "id": "b26db15c-daac-459a-8d9d-46effd801858",
   "metadata": {},
   "outputs": [
    {
     "data": {
      "text/plain": [
       "array([  84000., 3246000., 6408000., 9570000.])"
      ]
     },
     "execution_count": 121,
     "metadata": {},
     "output_type": "execute_result"
    }
   ],
   "source": [
    "group_names = ['Little', 'Medium', 'Lot']\n",
    "bins = np.linspace(min(df.totalprod), max(df.totalprod), 4)\n",
    "bins"
   ]
  },
  {
   "cell_type": "code",
   "execution_count": 122,
   "id": "776fc35c-28e6-43af-9d62-bc4457331236",
   "metadata": {},
   "outputs": [
    {
     "data": {
      "text/html": [
       "<div>\n",
       "<style scoped>\n",
       "    .dataframe tbody tr th:only-of-type {\n",
       "        vertical-align: middle;\n",
       "    }\n",
       "\n",
       "    .dataframe tbody tr th {\n",
       "        vertical-align: top;\n",
       "    }\n",
       "\n",
       "    .dataframe thead th {\n",
       "        text-align: right;\n",
       "    }\n",
       "</style>\n",
       "<table border=\"1\" class=\"dataframe\">\n",
       "  <thead>\n",
       "    <tr style=\"text-align: right;\">\n",
       "      <th></th>\n",
       "      <th>state</th>\n",
       "      <th>numcol</th>\n",
       "      <th>yieldpercol</th>\n",
       "      <th>totalprod</th>\n",
       "      <th>stocks</th>\n",
       "      <th>priceperlb</th>\n",
       "      <th>prodvalue</th>\n",
       "      <th>year</th>\n",
       "      <th>prod_category</th>\n",
       "    </tr>\n",
       "  </thead>\n",
       "  <tbody>\n",
       "    <tr>\n",
       "      <th>0</th>\n",
       "      <td>AL</td>\n",
       "      <td>16000.0</td>\n",
       "      <td>71</td>\n",
       "      <td>1136000.0</td>\n",
       "      <td>159000.0</td>\n",
       "      <td>0.72</td>\n",
       "      <td>818000.0</td>\n",
       "      <td>1998</td>\n",
       "      <td>Little</td>\n",
       "    </tr>\n",
       "    <tr>\n",
       "      <th>1</th>\n",
       "      <td>AZ</td>\n",
       "      <td>55000.0</td>\n",
       "      <td>60</td>\n",
       "      <td>3300000.0</td>\n",
       "      <td>1485000.0</td>\n",
       "      <td>0.64</td>\n",
       "      <td>2112000.0</td>\n",
       "      <td>1998</td>\n",
       "      <td>Medium</td>\n",
       "    </tr>\n",
       "    <tr>\n",
       "      <th>2</th>\n",
       "      <td>AR</td>\n",
       "      <td>53000.0</td>\n",
       "      <td>65</td>\n",
       "      <td>3445000.0</td>\n",
       "      <td>1688000.0</td>\n",
       "      <td>0.59</td>\n",
       "      <td>2033000.0</td>\n",
       "      <td>1998</td>\n",
       "      <td>Medium</td>\n",
       "    </tr>\n",
       "    <tr>\n",
       "      <th>4</th>\n",
       "      <td>CO</td>\n",
       "      <td>27000.0</td>\n",
       "      <td>72</td>\n",
       "      <td>1944000.0</td>\n",
       "      <td>1594000.0</td>\n",
       "      <td>0.70</td>\n",
       "      <td>1361000.0</td>\n",
       "      <td>1998</td>\n",
       "      <td>Little</td>\n",
       "    </tr>\n",
       "    <tr>\n",
       "      <th>6</th>\n",
       "      <td>GA</td>\n",
       "      <td>75000.0</td>\n",
       "      <td>56</td>\n",
       "      <td>4200000.0</td>\n",
       "      <td>307000.0</td>\n",
       "      <td>0.69</td>\n",
       "      <td>2898000.0</td>\n",
       "      <td>1998</td>\n",
       "      <td>Medium</td>\n",
       "    </tr>\n",
       "  </tbody>\n",
       "</table>\n",
       "</div>"
      ],
      "text/plain": [
       "  state   numcol  yieldpercol  totalprod     stocks  priceperlb  prodvalue  \\\n",
       "0    AL  16000.0           71  1136000.0   159000.0        0.72   818000.0   \n",
       "1    AZ  55000.0           60  3300000.0  1485000.0        0.64  2112000.0   \n",
       "2    AR  53000.0           65  3445000.0  1688000.0        0.59  2033000.0   \n",
       "4    CO  27000.0           72  1944000.0  1594000.0        0.70  1361000.0   \n",
       "6    GA  75000.0           56  4200000.0   307000.0        0.69  2898000.0   \n",
       "\n",
       "   year prod_category  \n",
       "0  1998        Little  \n",
       "1  1998        Medium  \n",
       "2  1998        Medium  \n",
       "4  1998        Little  \n",
       "6  1998        Medium  "
      ]
     },
     "execution_count": 122,
     "metadata": {},
     "output_type": "execute_result"
    }
   ],
   "source": [
    "df['prod_category'] = pd.cut(df.totalprod, bins, labels=group_names, include_lowest=True)\n",
    "\n",
    "df.head()"
   ]
  },
  {
   "cell_type": "code",
   "execution_count": 123,
   "id": "06f1bff9-ff2c-4a6e-8a3f-07ebd718c193",
   "metadata": {},
   "outputs": [
    {
     "data": {
      "text/plain": [
       "Little    436\n",
       "Medium     88\n",
       "Lot        27\n",
       "Name: prod_category, dtype: int64"
      ]
     },
     "execution_count": 123,
     "metadata": {},
     "output_type": "execute_result"
    }
   ],
   "source": [
    "df.prod_category.value_counts()"
   ]
  },
  {
   "cell_type": "code",
   "execution_count": 124,
   "id": "0502fb57-d4c3-4834-85a8-9698977d4719",
   "metadata": {
    "tags": []
   },
   "outputs": [],
   "source": [
    "x = df[['numcol', 'stocks', 'prodvalue']]\n",
    "y = df.iloc[:,-1]"
   ]
  },
  {
   "cell_type": "code",
   "execution_count": 138,
   "id": "f8260503-8213-49f5-9c57-9f8f8df68227",
   "metadata": {},
   "outputs": [],
   "source": [
    "x_train, x_test, y_train, y_test = train_test_split(x, y, test_size=0.2, random_state=42)"
   ]
  },
  {
   "cell_type": "code",
   "execution_count": 139,
   "id": "6fa26856-0376-4ece-a746-e7a36e2feb66",
   "metadata": {},
   "outputs": [],
   "source": [
    "scaler = StandardScaler()\n",
    "x_train = scaler.fit_transform(x_train)\n",
    "x_test = scaler.transform(x_test)"
   ]
  },
  {
   "cell_type": "code",
   "execution_count": 140,
   "id": "8e53e486-d666-4fa8-8482-96fc50320f80",
   "metadata": {},
   "outputs": [
    {
     "data": {
      "text/plain": [
       "LogisticRegression()"
      ]
     },
     "execution_count": 140,
     "metadata": {},
     "output_type": "execute_result"
    }
   ],
   "source": [
    "clf = LogisticRegression()\n",
    "clf.fit(x_train, y_train)"
   ]
  },
  {
   "cell_type": "code",
   "execution_count": 141,
   "id": "d0a23dce-f034-48ee-8e31-ca96dc6ad5cf",
   "metadata": {},
   "outputs": [],
   "source": [
    "y_pred = clf.predict(x_test)"
   ]
  },
  {
   "cell_type": "code",
   "execution_count": 142,
   "id": "f637e916-b845-4712-9d04-231f3ae747e8",
   "metadata": {},
   "outputs": [
    {
     "data": {
      "text/plain": [
       "<AxesSubplot:>"
      ]
     },
     "execution_count": 142,
     "metadata": {},
     "output_type": "execute_result"
    },
    {
     "data": {
      "image/png": "[encoded data removed]",
      "text/plain": [
       "<Figure size 432x288 with 2 Axes>"
      ]
     },
     "metadata": {
      "needs_background": "light"
     },
     "output_type": "display_data"
    }
   ],
   "source": [
    "sns.heatmap(\n",
    "    confusion_matrix(y_test, y_pred),\n",
    "    annot = True,\n",
    "    xticklabels=sorted(group_names),\n",
    "    yticklabels=sorted(group_names),\n",
    "    cmap='viridis'\n",
    ")"
   ]
  },
  {
   "cell_type": "markdown",
   "id": "08937be2-f318-406f-bc69-36e099092c7a",
   "metadata": {},
   "source": [
    "## Evaluation"
   ]
  },
  {
   "cell_type": "code",
   "execution_count": 143,
   "id": "c23cec8c-6be9-4284-8a04-89e1811db075",
   "metadata": {},
   "outputs": [
    {
     "name": "stdout",
     "output_type": "stream",
     "text": [
      "Train score: 0.9295454545454546\n",
      "Test score: 0.9099099099099099\n"
     ]
    }
   ],
   "source": [
    "print(f\"Train score: {clf.score(x_train, y_train)}\")\n",
    "print(f\"Test score: {clf.score(x_test, y_test)}\")"
   ]
  },
  {
   "cell_type": "code",
   "execution_count": 131,
   "id": "f5cb65eb-c991-4262-b18c-4990f0afca59",
   "metadata": {},
   "outputs": [
    {
     "name": "stdout",
     "output_type": "stream",
     "text": [
      "(Precision, Recall, F1 Score): (0.8756704980842912, 0.7516795865633075, 0.7656482246077623)\n"
     ]
    }
   ],
   "source": [
    "print(f\"(Precision, Recall, F1 Score): {precision_recall_fscore_support(y_test, y_pred, average='macro')[:-1]}\")"
   ]
  }
 ],
 "metadata": {
  "kernelspec": {
   "display_name": "Python 3",
   "language": "python",
   "name": "python3"
  },
  "language_info": {
   "codemirror_mode": {
    "name": "ipython",
    "version": 3
   },
   "file_extension": ".py",
   "mimetype": "text/x-python",
   "name": "python",
   "nbconvert_exporter": "python",
   "pygments_lexer": "ipython3",
   "version": "3.8.8"
  }
 },
 "nbformat": 4,
 "nbformat_minor": 5
}
